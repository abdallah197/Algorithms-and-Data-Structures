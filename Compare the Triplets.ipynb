{
 "cells": [
  {
   "cell_type": "markdown",
   "metadata": {},
   "source": [
    "# Compare the Triplets"
   ]
  },
  {
   "cell_type": "markdown",
   "metadata": {},
   "source": [
    "the function compareTriplets must return an array of two integers, the first being Alice's score and the second being Bob's.\n",
    "if alice score is bigger than bob's, alice get a point,  and the same goes for Bob. if their points are equal, neither of them get a point.\n",
    "\n",
    "compareTriplets has the following parameter(s):\n",
    "\n",
    "a: an array of integers representing Alice's challenge rating\n",
    "b: an array of integers representing Bob's challenge rating\n",
    "\n",
    "The Code:\n"
   ]
  },
  {
   "cell_type": "code",
   "execution_count": null,
   "metadata": {},
   "outputs": [],
   "source": [
    "#!/bin/python\n",
    "\n",
    "import math\n",
    "import os\n",
    "import random\n",
    "import re\n",
    "import sys\n",
    "\n",
    "# Complete the compareTriplets function below.\n",
    "def compareTriplets(a, b):\n",
    "    c = [0,0]\n",
    "    for i in range(len(a)):\n",
    "        if a[i] > b[i]:\n",
    "            c[0] +=1\n",
    "        elif  a[i] < b[i]:\n",
    "            c[1] += 1\n",
    "        elif a[i] == b[i]:\n",
    "            pass\n",
    "    return c\n",
    "\n",
    "\n",
    "a = map(int, input().rstrip().split())\n",
    "\n",
    "b = map(int, input().rstrip().split())\n",
    "\n",
    "result = compareTriplets(a, b)\n",
    "\n",
    "print(result)"
   ]
  },
  {
   "cell_type": "code",
   "execution_count": null,
   "metadata": {},
   "outputs": [],
   "source": []
  }
 ],
 "metadata": {
  "kernelspec": {
   "display_name": "Python 3",
   "language": "python",
   "name": "python3"
  },
  "language_info": {
   "codemirror_mode": {
    "name": "ipython",
    "version": 3
   },
   "file_extension": ".py",
   "mimetype": "text/x-python",
   "name": "python",
   "nbconvert_exporter": "python",
   "pygments_lexer": "ipython3",
   "version": "3.6.5"
  }
 },
 "nbformat": 4,
 "nbformat_minor": 2
}
