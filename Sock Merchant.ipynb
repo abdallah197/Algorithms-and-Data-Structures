{
 "cells": [
  {
   "cell_type": "markdown",
   "metadata": {},
   "source": [
    "# Sock Merchant"
   ]
  },
  {
   "cell_type": "markdown",
   "metadata": {},
   "source": [
    "John works at a clothing store. He has a large pile of socks that he must pair by color for sale. Given an array of integers representing the color of each sock, determine how many pairs of socks with matching colors there are.\n",
    "\n",
    "Function Description:\n",
    "sockMerchant functionmust return an integer representing the number of matching pairs of socks that are available.\n",
    "\n",
    "sockMerchant has the following parameter(s):\n",
    "\n",
    "1.n: the number of socks in the pile\n",
    "\n",
    "2.ar: the colors of each sock"
   ]
  },
  {
   "cell_type": "code",
   "execution_count": null,
   "metadata": {},
   "outputs": [],
   "source": [
    "#!/bin/python3\n",
    "\n",
    "import math\n",
    "import os\n",
    "import random\n",
    "import re\n",
    "import sys\n",
    "from collections import Counter\n",
    "\n",
    "# Complete the sockMerchant function below.\n",
    "def sockMerchant(n, ar):\n",
    "    cc = 0\n",
    "    count = Counter(ar)\n",
    "    key = list(count.keys())\n",
    "    for i  in range(len(key)):\n",
    "        if count[key[i]] % 2 == 0:\n",
    "            cc += count[key[i]]/2    \n",
    "        elif count[key[i]] > 2 and count[key[i]] % 2 != 0:\n",
    "            cc += (count[key[i]]-1)/2\n",
    "        else:\n",
    "            pass\n",
    "    return(int(cc))\n",
    "            \n",
    "            \n",
    "\n",
    "\n",
    "\n",
    "n = int(input())\n",
    "\n",
    "ar = list(map(int, input().rstrip().split()))\n",
    "sockMerchant(n, ar)\n",
    "print(sockMerchant(n, ar))\n",
    "\n",
    "    "
   ]
  },
  {
   "cell_type": "code",
   "execution_count": null,
   "metadata": {},
   "outputs": [],
   "source": []
  }
 ],
 "metadata": {
  "kernelspec": {
   "display_name": "Python 3",
   "language": "python",
   "name": "python3"
  },
  "language_info": {
   "codemirror_mode": {
    "name": "ipython",
    "version": 3
   },
   "file_extension": ".py",
   "mimetype": "text/x-python",
   "name": "python",
   "nbconvert_exporter": "python",
   "pygments_lexer": "ipython3",
   "version": "3.6.5"
  }
 },
 "nbformat": 4,
 "nbformat_minor": 2
}
